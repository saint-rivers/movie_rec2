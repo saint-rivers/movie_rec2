{
 "cells": [
  {
   "cell_type": "code",
   "execution_count": 1,
   "metadata": {},
   "outputs": [],
   "source": [
    "import numpy as np\n",
    "import pandas as pd\n",
    "import datapac\n",
    "from sklearn.feature_extraction.text import CountVectorizer\n",
    "from sklearn.metrics.pairwise import cosine_similarity"
   ]
  },
  {
   "cell_type": "markdown",
   "metadata": {},
   "source": [
    "# Generating The Matrix"
   ]
  },
  {
   "cell_type": "code",
   "execution_count": 2,
   "metadata": {},
   "outputs": [],
   "source": [
    "df = datapac.load_movies()"
   ]
  },
  {
   "cell_type": "code",
   "execution_count": 3,
   "metadata": {},
   "outputs": [],
   "source": [
    "def create_soup(x: pd.Series):\n",
    "    def join_feat(feat):\n",
    "        if feat is None:\n",
    "            parsed = \"\"\n",
    "        else:\n",
    "            v = str(feat).split(\",\")\n",
    "            parsed = ' '.join(v)\n",
    "        return parsed\n",
    "\n",
    "    out = join_feat(x['genres'])\n",
    "    out = out + ' ' + join_feat(x['production_companies'])\n",
    "    out = out + ' ' + join_feat(x['title'])\n",
    "    return out"
   ]
  },
  {
   "cell_type": "code",
   "execution_count": 4,
   "metadata": {},
   "outputs": [],
   "source": [
    "df = df[['production_companies', 'genres', 'title', 'id']]\n",
    "df['soup'] = df.apply(create_soup, axis=1)\n",
    "count = CountVectorizer(stop_words=\"english\")\n",
    "count_matrix = count.fit_transform(df['soup'])\n",
    "cos_sim = cosine_similarity(count_matrix, count_matrix)\n",
    "df = df.reset_index()"
   ]
  },
  {
   "cell_type": "code",
   "execution_count": 5,
   "metadata": {},
   "outputs": [],
   "source": [
    "indices = pd.DataFrame(df[['id', 'title']]).drop_duplicates()"
   ]
  },
  {
   "cell_type": "markdown",
   "metadata": {},
   "source": [
    "## Generating Recommendations"
   ]
  },
  {
   "cell_type": "code",
   "execution_count": 8,
   "metadata": {},
   "outputs": [],
   "source": [
    "test_user_id = 142983"
   ]
  },
  {
   "cell_type": "code",
   "execution_count": 9,
   "metadata": {},
   "outputs": [],
   "source": [
    "import datapac\n",
    "from sklearn.model_selection import train_test_split\n",
    "\n",
    "rat = datapac.load_ratings().drop_duplicates()\n",
    "ratings = datapac.clean_ratings(rat)\n",
    "trainset, test_ratings = train_test_split(ratings, test_size=0.2)"
   ]
  },
  {
   "cell_type": "code",
   "execution_count": 10,
   "metadata": {},
   "outputs": [],
   "source": [
    "movies = pd.read_csv(\"data/movies_processed_cleaned.csv\")\n",
    "sim_mat = np.load(\"matrices/feature_sim_matrix.npy\")\n",
    "# test_ratings = pd.read_csv(\"data/test_ratings.csv\")"
   ]
  },
  {
   "cell_type": "code",
   "execution_count": 14,
   "metadata": {},
   "outputs": [],
   "source": [
    "def get_recommendations(movie_id: int, cosine_sim):\n",
    "    sim_scores = list(enumerate(cosine_sim[movie_id]))\n",
    "    sim_scores = sorted(sim_scores, key=lambda x: x[1], reverse=True)\n",
    "    sim_scores = sim_scores[1:11]\n",
    "    movie_indices = [i[0] for i in sim_scores]\n",
    "    # sim = [i[1] for i in sim_scores]\n",
    "    return movie_indices, sim_scores"
   ]
  },
  {
   "cell_type": "code",
   "execution_count": 15,
   "metadata": {},
   "outputs": [
    {
     "data": {
      "text/plain": [
       "([6845, 19048, 17010, 6177, 9412, 6794, 11039, 12379, 12498, 14908],\n",
       " [(6845, 0.46625240412015695),\n",
       "  (19048, 0.4423258684646915),\n",
       "  (17010, 0.440086229423352),\n",
       "  (6177, 0.43070552164653236),\n",
       "  (9412, 0.4305283859114459),\n",
       "  (6794, 0.41702882811414954),\n",
       "  (11039, 0.41702882811414954),\n",
       "  (12379, 0.41702882811414954),\n",
       "  (12498, 0.41702882811414954),\n",
       "  (14908, 0.41702882811414954)])"
      ]
     },
     "execution_count": 15,
     "metadata": {},
     "output_type": "execute_result"
    }
   ],
   "source": [
    "get_recommendations(1104, sim_mat)"
   ]
  },
  {
   "cell_type": "markdown",
   "metadata": {},
   "source": [
    "# Predict and Measure"
   ]
  },
  {
   "cell_type": "code",
   "execution_count": 61,
   "metadata": {},
   "outputs": [],
   "source": [
    "test_user_id = 142983\n",
    "rated1 = test_ratings.loc[test_ratings['userId'] == test_user_id]"
   ]
  },
  {
   "cell_type": "code",
   "execution_count": 59,
   "metadata": {},
   "outputs": [
    {
     "data": {
      "text/html": [
       "<div>\n",
       "<style scoped>\n",
       "    .dataframe tbody tr th:only-of-type {\n",
       "        vertical-align: middle;\n",
       "    }\n",
       "\n",
       "    .dataframe tbody tr th {\n",
       "        vertical-align: top;\n",
       "    }\n",
       "\n",
       "    .dataframe thead th {\n",
       "        text-align: right;\n",
       "    }\n",
       "</style>\n",
       "<table border=\"1\" class=\"dataframe\">\n",
       "  <thead>\n",
       "    <tr style=\"text-align: right;\">\n",
       "      <th></th>\n",
       "      <th>userId</th>\n",
       "      <th>rating</th>\n",
       "      <th>movieId</th>\n",
       "    </tr>\n",
       "  </thead>\n",
       "  <tbody>\n",
       "    <tr>\n",
       "      <th>13762019</th>\n",
       "      <td>142983</td>\n",
       "      <td>1.0</td>\n",
       "      <td>1831.0</td>\n",
       "    </tr>\n",
       "  </tbody>\n",
       "</table>\n",
       "</div>"
      ],
      "text/plain": [
       "          userId  rating  movieId\n",
       "13762019  142983     1.0   1831.0"
      ]
     },
     "execution_count": 59,
     "metadata": {},
     "output_type": "execute_result"
    }
   ],
   "source": [
    "rated1.loc[rated1['movieId'] == 1831]"
   ]
  },
  {
   "cell_type": "code",
   "execution_count": null,
   "metadata": {},
   "outputs": [],
   "source": [
    "def predict_rating(user_id:int, target_id:int, similarity_matrix, indices):\n",
    "    rated_items = test_ratings.loc[test_ratings['userId'] == user_id][['movieId', 'rating']]\n",
    "    \n",
    "    weighted_ratings = 0\n",
    "    similarity_sum = 0\n",
    "\n",
    "    for rated in rated_items.iterrows():\n",
    "        seen_mov_id = int(rated[1]['movieId'])\n",
    "        seen_idx = indices.loc[indices['id']==seen_mov_id].index[0]\n",
    "        target_idx = indices.loc[indices['id']==target_id].index[0]\n",
    "\n",
    "        sim = similarity_matrix[seen_idx][target_idx]\n",
    "        weighted_ratings += sim * rated[1]['rating']\n",
    "        similarity_sum += sim\n",
    "\n",
    "    if similarity_sum == 0:\n",
    "        return np.nan  # No similar items with ratings\n",
    "    return weighted_ratings / similarity_sum"
   ]
  },
  {
   "cell_type": "code",
   "execution_count": null,
   "metadata": {},
   "outputs": [
    {
     "data": {
      "text/html": [
       "<div>\n",
       "<style scoped>\n",
       "    .dataframe tbody tr th:only-of-type {\n",
       "        vertical-align: middle;\n",
       "    }\n",
       "\n",
       "    .dataframe tbody tr th {\n",
       "        vertical-align: top;\n",
       "    }\n",
       "\n",
       "    .dataframe thead th {\n",
       "        text-align: right;\n",
       "    }\n",
       "</style>\n",
       "<table border=\"1\" class=\"dataframe\">\n",
       "  <thead>\n",
       "    <tr style=\"text-align: right;\">\n",
       "      <th></th>\n",
       "      <th>userId</th>\n",
       "      <th>movieId</th>\n",
       "      <th>predicted</th>\n",
       "      <th>actual</th>\n",
       "    </tr>\n",
       "  </thead>\n",
       "  <tbody>\n",
       "    <tr>\n",
       "      <th>19010435</th>\n",
       "      <td>197362.0</td>\n",
       "      <td>185.0</td>\n",
       "      <td>3.518450</td>\n",
       "      <td>3.0</td>\n",
       "    </tr>\n",
       "    <tr>\n",
       "      <th>21689960</th>\n",
       "      <td>225292.0</td>\n",
       "      <td>45431.0</td>\n",
       "      <td>3.279286</td>\n",
       "      <td>3.5</td>\n",
       "    </tr>\n",
       "    <tr>\n",
       "      <th>18790124</th>\n",
       "      <td>195101.0</td>\n",
       "      <td>590.0</td>\n",
       "      <td>3.694442</td>\n",
       "      <td>4.0</td>\n",
       "    </tr>\n",
       "    <tr>\n",
       "      <th>13048870</th>\n",
       "      <td>135598.0</td>\n",
       "      <td>2124.0</td>\n",
       "      <td>1.042823</td>\n",
       "      <td>0.5</td>\n",
       "    </tr>\n",
       "    <tr>\n",
       "      <th>449130</th>\n",
       "      <td>4627.0</td>\n",
       "      <td>16.0</td>\n",
       "      <td>3.229359</td>\n",
       "      <td>4.0</td>\n",
       "    </tr>\n",
       "    <tr>\n",
       "      <th>...</th>\n",
       "      <td>...</td>\n",
       "      <td>...</td>\n",
       "      <td>...</td>\n",
       "      <td>...</td>\n",
       "    </tr>\n",
       "    <tr>\n",
       "      <th>13868142</th>\n",
       "      <td>144121.0</td>\n",
       "      <td>2028.0</td>\n",
       "      <td>2.416548</td>\n",
       "      <td>4.0</td>\n",
       "    </tr>\n",
       "    <tr>\n",
       "      <th>3138823</th>\n",
       "      <td>32757.0</td>\n",
       "      <td>132.0</td>\n",
       "      <td>2.947032</td>\n",
       "      <td>2.0</td>\n",
       "    </tr>\n",
       "    <tr>\n",
       "      <th>1835856</th>\n",
       "      <td>19031.0</td>\n",
       "      <td>480.0</td>\n",
       "      <td>4.095996</td>\n",
       "      <td>4.0</td>\n",
       "    </tr>\n",
       "    <tr>\n",
       "      <th>6467545</th>\n",
       "      <td>66740.0</td>\n",
       "      <td>111.0</td>\n",
       "      <td>4.601041</td>\n",
       "      <td>4.5</td>\n",
       "    </tr>\n",
       "    <tr>\n",
       "      <th>16459685</th>\n",
       "      <td>171099.0</td>\n",
       "      <td>2289.0</td>\n",
       "      <td>3.064782</td>\n",
       "      <td>3.0</td>\n",
       "    </tr>\n",
       "  </tbody>\n",
       "</table>\n",
       "<p>10000 rows × 4 columns</p>\n",
       "</div>"
      ],
      "text/plain": [
       "            userId  movieId  predicted  actual\n",
       "19010435  197362.0    185.0   3.518450     3.0\n",
       "21689960  225292.0  45431.0   3.279286     3.5\n",
       "18790124  195101.0    590.0   3.694442     4.0\n",
       "13048870  135598.0   2124.0   1.042823     0.5\n",
       "449130      4627.0     16.0   3.229359     4.0\n",
       "...            ...      ...        ...     ...\n",
       "13868142  144121.0   2028.0   2.416548     4.0\n",
       "3138823    32757.0    132.0   2.947032     2.0\n",
       "1835856    19031.0    480.0   4.095996     4.0\n",
       "6467545    66740.0    111.0   4.601041     4.5\n",
       "16459685  171099.0   2289.0   3.064782     3.0\n",
       "\n",
       "[10000 rows x 4 columns]"
      ]
     },
     "execution_count": 88,
     "metadata": {},
     "output_type": "execute_result"
    }
   ],
   "source": [
    "# pred_rating = predict_rating(test_user_id, 1104, sim_mat)\n",
    "\n",
    "def test(row):\n",
    "    out = predict_rating(int(row['userId']), int(row['movieId']), sim_mat, indices)\n",
    "    # print({'predicted': out, 'actual': row['rating']})\n",
    "    return pd.Series({'userId': row['userId'], 'movieId': row['movieId'], 'predicted': out, 'actual': row['rating']})\n",
    "\n",
    "\n",
    "predictions = test_ratings[:10000].apply(test, axis=1)\n",
    "predictions\n"
   ]
  },
  {
   "cell_type": "code",
   "execution_count": null,
   "metadata": {},
   "outputs": [],
   "source": [
    "predictions.to_csv(\"metrics/content_based_predictions.csv\")"
   ]
  },
  {
   "cell_type": "code",
   "execution_count": 92,
   "metadata": {},
   "outputs": [],
   "source": [
    "from sklearn.metrics import root_mean_squared_error, mean_absolute_error\n",
    "import json\n",
    "\n",
    "rmse = root_mean_squared_error(predictions['actual'].values, predictions['predicted'].values)\n",
    "mae = mean_absolute_error(predictions['actual'].values, predictions['predicted'].values)\n",
    "\n",
    "with open(\"metrics/content_based.txt\", \"w+\") as file:\n",
    "    file.write(json.dumps({'rmse': rmse, 'mae': mae}))"
   ]
  }
 ],
 "metadata": {
  "kernelspec": {
   "display_name": "Python 3",
   "language": "python",
   "name": "python3"
  },
  "language_info": {
   "codemirror_mode": {
    "name": "ipython",
    "version": 3
   },
   "file_extension": ".py",
   "mimetype": "text/x-python",
   "name": "python",
   "nbconvert_exporter": "python",
   "pygments_lexer": "ipython3",
   "version": "3.11.10"
  }
 },
 "nbformat": 4,
 "nbformat_minor": 2
}
